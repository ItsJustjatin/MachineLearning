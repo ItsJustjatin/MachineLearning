{
  "nbformat": 4,
  "nbformat_minor": 0,
  "metadata": {
    "colab": {
      "provenance": []
    },
    "kernelspec": {
      "name": "python3",
      "display_name": "Python 3"
    },
    "language_info": {
      "name": "python"
    }
  },
  "cells": [
    {
      "cell_type": "code",
      "execution_count": null,
      "metadata": {
        "id": "g3IDFgkJeBEK"
      },
      "outputs": [],
      "source": [
        "#importing the libraries\n",
        "import numpy as np\n",
        "import matplotlib.pyplot as plt\n",
        "import pandas as pd\n",
        "import seaborn as sns\n",
        "import sklearn as skl"
      ]
    },
    {
      "cell_type": "code",
      "source": [
        "#importing the dataset\n",
        "dataset=pd.read_csv('/content/placement.csv')\n",
        "print(dataset)"
      ],
      "metadata": {
        "colab": {
          "base_uri": "https://localhost:8080/"
        },
        "id": "JJyMIOnnAALI",
        "outputId": "5414d3e8-1979-46a7-e0e7-64a016a536ac"
      },
      "execution_count": null,
      "outputs": [
        {
          "output_type": "stream",
          "name": "stdout",
          "text": [
            "    Unnamed: 0  cgpa     iq  placement\n",
            "0            0   6.8  123.0          1\n",
            "1            1   5.9  106.0          0\n",
            "2            2   5.3  121.0          0\n",
            "3            3   7.4  132.0          1\n",
            "4            4   5.8  142.0          0\n",
            "..         ...   ...    ...        ...\n",
            "95          95   4.3  200.0          0\n",
            "96          96   4.4   42.0          0\n",
            "97          97   6.7  182.0          1\n",
            "98          98   6.3  103.0          1\n",
            "99          99   6.2  113.0          1\n",
            "\n",
            "[100 rows x 4 columns]\n"
          ]
        }
      ]
    },
    {
      "cell_type": "code",
      "source": [
        "dataset.head(10)"
      ],
      "metadata": {
        "colab": {
          "base_uri": "https://localhost:8080/",
          "height": 363
        },
        "id": "Gh6C0rYFAFLa",
        "outputId": "16eb4dde-116f-4c87-eaa3-e421a5a769ed"
      },
      "execution_count": null,
      "outputs": [
        {
          "output_type": "execute_result",
          "data": {
            "text/plain": [
              "   Unnamed: 0  cgpa     iq  placement\n",
              "0           0   6.8  123.0          1\n",
              "1           1   5.9  106.0          0\n",
              "2           2   5.3  121.0          0\n",
              "3           3   7.4  132.0          1\n",
              "4           4   5.8  142.0          0\n",
              "5           5   7.1   48.0          1\n",
              "6           6   5.7  143.0          0\n",
              "7           7   5.0   63.0          0\n",
              "8           8   6.1  156.0          0\n",
              "9           9   5.1   66.0          0"
            ],
            "text/html": [
              "\n",
              "  <div id=\"df-5c319e3c-957c-4ad8-a3ec-9c7db825e2ae\" class=\"colab-df-container\">\n",
              "    <div>\n",
              "<style scoped>\n",
              "    .dataframe tbody tr th:only-of-type {\n",
              "        vertical-align: middle;\n",
              "    }\n",
              "\n",
              "    .dataframe tbody tr th {\n",
              "        vertical-align: top;\n",
              "    }\n",
              "\n",
              "    .dataframe thead th {\n",
              "        text-align: right;\n",
              "    }\n",
              "</style>\n",
              "<table border=\"1\" class=\"dataframe\">\n",
              "  <thead>\n",
              "    <tr style=\"text-align: right;\">\n",
              "      <th></th>\n",
              "      <th>Unnamed: 0</th>\n",
              "      <th>cgpa</th>\n",
              "      <th>iq</th>\n",
              "      <th>placement</th>\n",
              "    </tr>\n",
              "  </thead>\n",
              "  <tbody>\n",
              "    <tr>\n",
              "      <th>0</th>\n",
              "      <td>0</td>\n",
              "      <td>6.8</td>\n",
              "      <td>123.0</td>\n",
              "      <td>1</td>\n",
              "    </tr>\n",
              "    <tr>\n",
              "      <th>1</th>\n",
              "      <td>1</td>\n",
              "      <td>5.9</td>\n",
              "      <td>106.0</td>\n",
              "      <td>0</td>\n",
              "    </tr>\n",
              "    <tr>\n",
              "      <th>2</th>\n",
              "      <td>2</td>\n",
              "      <td>5.3</td>\n",
              "      <td>121.0</td>\n",
              "      <td>0</td>\n",
              "    </tr>\n",
              "    <tr>\n",
              "      <th>3</th>\n",
              "      <td>3</td>\n",
              "      <td>7.4</td>\n",
              "      <td>132.0</td>\n",
              "      <td>1</td>\n",
              "    </tr>\n",
              "    <tr>\n",
              "      <th>4</th>\n",
              "      <td>4</td>\n",
              "      <td>5.8</td>\n",
              "      <td>142.0</td>\n",
              "      <td>0</td>\n",
              "    </tr>\n",
              "    <tr>\n",
              "      <th>5</th>\n",
              "      <td>5</td>\n",
              "      <td>7.1</td>\n",
              "      <td>48.0</td>\n",
              "      <td>1</td>\n",
              "    </tr>\n",
              "    <tr>\n",
              "      <th>6</th>\n",
              "      <td>6</td>\n",
              "      <td>5.7</td>\n",
              "      <td>143.0</td>\n",
              "      <td>0</td>\n",
              "    </tr>\n",
              "    <tr>\n",
              "      <th>7</th>\n",
              "      <td>7</td>\n",
              "      <td>5.0</td>\n",
              "      <td>63.0</td>\n",
              "      <td>0</td>\n",
              "    </tr>\n",
              "    <tr>\n",
              "      <th>8</th>\n",
              "      <td>8</td>\n",
              "      <td>6.1</td>\n",
              "      <td>156.0</td>\n",
              "      <td>0</td>\n",
              "    </tr>\n",
              "    <tr>\n",
              "      <th>9</th>\n",
              "      <td>9</td>\n",
              "      <td>5.1</td>\n",
              "      <td>66.0</td>\n",
              "      <td>0</td>\n",
              "    </tr>\n",
              "  </tbody>\n",
              "</table>\n",
              "</div>\n",
              "    <div class=\"colab-df-buttons\">\n",
              "\n",
              "  <div class=\"colab-df-container\">\n",
              "    <button class=\"colab-df-convert\" onclick=\"convertToInteractive('df-5c319e3c-957c-4ad8-a3ec-9c7db825e2ae')\"\n",
              "            title=\"Convert this dataframe to an interactive table.\"\n",
              "            style=\"display:none;\">\n",
              "\n",
              "  <svg xmlns=\"http://www.w3.org/2000/svg\" height=\"24px\" viewBox=\"0 -960 960 960\">\n",
              "    <path d=\"M120-120v-720h720v720H120Zm60-500h600v-160H180v160Zm220 220h160v-160H400v160Zm0 220h160v-160H400v160ZM180-400h160v-160H180v160Zm440 0h160v-160H620v160ZM180-180h160v-160H180v160Zm440 0h160v-160H620v160Z\"/>\n",
              "  </svg>\n",
              "    </button>\n",
              "\n",
              "  <style>\n",
              "    .colab-df-container {\n",
              "      display:flex;\n",
              "      gap: 12px;\n",
              "    }\n",
              "\n",
              "    .colab-df-convert {\n",
              "      background-color: #E8F0FE;\n",
              "      border: none;\n",
              "      border-radius: 50%;\n",
              "      cursor: pointer;\n",
              "      display: none;\n",
              "      fill: #1967D2;\n",
              "      height: 32px;\n",
              "      padding: 0 0 0 0;\n",
              "      width: 32px;\n",
              "    }\n",
              "\n",
              "    .colab-df-convert:hover {\n",
              "      background-color: #E2EBFA;\n",
              "      box-shadow: 0px 1px 2px rgba(60, 64, 67, 0.3), 0px 1px 3px 1px rgba(60, 64, 67, 0.15);\n",
              "      fill: #174EA6;\n",
              "    }\n",
              "\n",
              "    .colab-df-buttons div {\n",
              "      margin-bottom: 4px;\n",
              "    }\n",
              "\n",
              "    [theme=dark] .colab-df-convert {\n",
              "      background-color: #3B4455;\n",
              "      fill: #D2E3FC;\n",
              "    }\n",
              "\n",
              "    [theme=dark] .colab-df-convert:hover {\n",
              "      background-color: #434B5C;\n",
              "      box-shadow: 0px 1px 3px 1px rgba(0, 0, 0, 0.15);\n",
              "      filter: drop-shadow(0px 1px 2px rgba(0, 0, 0, 0.3));\n",
              "      fill: #FFFFFF;\n",
              "    }\n",
              "  </style>\n",
              "\n",
              "    <script>\n",
              "      const buttonEl =\n",
              "        document.querySelector('#df-5c319e3c-957c-4ad8-a3ec-9c7db825e2ae button.colab-df-convert');\n",
              "      buttonEl.style.display =\n",
              "        google.colab.kernel.accessAllowed ? 'block' : 'none';\n",
              "\n",
              "      async function convertToInteractive(key) {\n",
              "        const element = document.querySelector('#df-5c319e3c-957c-4ad8-a3ec-9c7db825e2ae');\n",
              "        const dataTable =\n",
              "          await google.colab.kernel.invokeFunction('convertToInteractive',\n",
              "                                                    [key], {});\n",
              "        if (!dataTable) return;\n",
              "\n",
              "        const docLinkHtml = 'Like what you see? Visit the ' +\n",
              "          '<a target=\"_blank\" href=https://colab.research.google.com/notebooks/data_table.ipynb>data table notebook</a>'\n",
              "          + ' to learn more about interactive tables.';\n",
              "        element.innerHTML = '';\n",
              "        dataTable['output_type'] = 'display_data';\n",
              "        await google.colab.output.renderOutput(dataTable, element);\n",
              "        const docLink = document.createElement('div');\n",
              "        docLink.innerHTML = docLinkHtml;\n",
              "        element.appendChild(docLink);\n",
              "      }\n",
              "    </script>\n",
              "  </div>\n",
              "\n",
              "\n",
              "<div id=\"df-b8528fd4-5d36-464d-8b21-7a5ab83fbf2c\">\n",
              "  <button class=\"colab-df-quickchart\" onclick=\"quickchart('df-b8528fd4-5d36-464d-8b21-7a5ab83fbf2c')\"\n",
              "            title=\"Suggest charts\"\n",
              "            style=\"display:none;\">\n",
              "\n",
              "<svg xmlns=\"http://www.w3.org/2000/svg\" height=\"24px\"viewBox=\"0 0 24 24\"\n",
              "     width=\"24px\">\n",
              "    <g>\n",
              "        <path d=\"M19 3H5c-1.1 0-2 .9-2 2v14c0 1.1.9 2 2 2h14c1.1 0 2-.9 2-2V5c0-1.1-.9-2-2-2zM9 17H7v-7h2v7zm4 0h-2V7h2v10zm4 0h-2v-4h2v4z\"/>\n",
              "    </g>\n",
              "</svg>\n",
              "  </button>\n",
              "\n",
              "<style>\n",
              "  .colab-df-quickchart {\n",
              "      --bg-color: #E8F0FE;\n",
              "      --fill-color: #1967D2;\n",
              "      --hover-bg-color: #E2EBFA;\n",
              "      --hover-fill-color: #174EA6;\n",
              "      --disabled-fill-color: #AAA;\n",
              "      --disabled-bg-color: #DDD;\n",
              "  }\n",
              "\n",
              "  [theme=dark] .colab-df-quickchart {\n",
              "      --bg-color: #3B4455;\n",
              "      --fill-color: #D2E3FC;\n",
              "      --hover-bg-color: #434B5C;\n",
              "      --hover-fill-color: #FFFFFF;\n",
              "      --disabled-bg-color: #3B4455;\n",
              "      --disabled-fill-color: #666;\n",
              "  }\n",
              "\n",
              "  .colab-df-quickchart {\n",
              "    background-color: var(--bg-color);\n",
              "    border: none;\n",
              "    border-radius: 50%;\n",
              "    cursor: pointer;\n",
              "    display: none;\n",
              "    fill: var(--fill-color);\n",
              "    height: 32px;\n",
              "    padding: 0;\n",
              "    width: 32px;\n",
              "  }\n",
              "\n",
              "  .colab-df-quickchart:hover {\n",
              "    background-color: var(--hover-bg-color);\n",
              "    box-shadow: 0 1px 2px rgba(60, 64, 67, 0.3), 0 1px 3px 1px rgba(60, 64, 67, 0.15);\n",
              "    fill: var(--button-hover-fill-color);\n",
              "  }\n",
              "\n",
              "  .colab-df-quickchart-complete:disabled,\n",
              "  .colab-df-quickchart-complete:disabled:hover {\n",
              "    background-color: var(--disabled-bg-color);\n",
              "    fill: var(--disabled-fill-color);\n",
              "    box-shadow: none;\n",
              "  }\n",
              "\n",
              "  .colab-df-spinner {\n",
              "    border: 2px solid var(--fill-color);\n",
              "    border-color: transparent;\n",
              "    border-bottom-color: var(--fill-color);\n",
              "    animation:\n",
              "      spin 1s steps(1) infinite;\n",
              "  }\n",
              "\n",
              "  @keyframes spin {\n",
              "    0% {\n",
              "      border-color: transparent;\n",
              "      border-bottom-color: var(--fill-color);\n",
              "      border-left-color: var(--fill-color);\n",
              "    }\n",
              "    20% {\n",
              "      border-color: transparent;\n",
              "      border-left-color: var(--fill-color);\n",
              "      border-top-color: var(--fill-color);\n",
              "    }\n",
              "    30% {\n",
              "      border-color: transparent;\n",
              "      border-left-color: var(--fill-color);\n",
              "      border-top-color: var(--fill-color);\n",
              "      border-right-color: var(--fill-color);\n",
              "    }\n",
              "    40% {\n",
              "      border-color: transparent;\n",
              "      border-right-color: var(--fill-color);\n",
              "      border-top-color: var(--fill-color);\n",
              "    }\n",
              "    60% {\n",
              "      border-color: transparent;\n",
              "      border-right-color: var(--fill-color);\n",
              "    }\n",
              "    80% {\n",
              "      border-color: transparent;\n",
              "      border-right-color: var(--fill-color);\n",
              "      border-bottom-color: var(--fill-color);\n",
              "    }\n",
              "    90% {\n",
              "      border-color: transparent;\n",
              "      border-bottom-color: var(--fill-color);\n",
              "    }\n",
              "  }\n",
              "</style>\n",
              "\n",
              "  <script>\n",
              "    async function quickchart(key) {\n",
              "      const quickchartButtonEl =\n",
              "        document.querySelector('#' + key + ' button');\n",
              "      quickchartButtonEl.disabled = true;  // To prevent multiple clicks.\n",
              "      quickchartButtonEl.classList.add('colab-df-spinner');\n",
              "      try {\n",
              "        const charts = await google.colab.kernel.invokeFunction(\n",
              "            'suggestCharts', [key], {});\n",
              "      } catch (error) {\n",
              "        console.error('Error during call to suggestCharts:', error);\n",
              "      }\n",
              "      quickchartButtonEl.classList.remove('colab-df-spinner');\n",
              "      quickchartButtonEl.classList.add('colab-df-quickchart-complete');\n",
              "    }\n",
              "    (() => {\n",
              "      let quickchartButtonEl =\n",
              "        document.querySelector('#df-b8528fd4-5d36-464d-8b21-7a5ab83fbf2c button');\n",
              "      quickchartButtonEl.style.display =\n",
              "        google.colab.kernel.accessAllowed ? 'block' : 'none';\n",
              "    })();\n",
              "  </script>\n",
              "</div>\n",
              "\n",
              "    </div>\n",
              "  </div>\n"
            ],
            "application/vnd.google.colaboratory.intrinsic+json": {
              "type": "dataframe",
              "variable_name": "dataset",
              "summary": "{\n  \"name\": \"dataset\",\n  \"rows\": 100,\n  \"fields\": [\n    {\n      \"column\": \"Unnamed: 0\",\n      \"properties\": {\n        \"dtype\": \"number\",\n        \"std\": 29,\n        \"min\": 0,\n        \"max\": 99,\n        \"num_unique_values\": 100,\n        \"samples\": [\n          83,\n          53,\n          70\n        ],\n        \"semantic_type\": \"\",\n        \"description\": \"\"\n      }\n    },\n    {\n      \"column\": \"cgpa\",\n      \"properties\": {\n        \"dtype\": \"number\",\n        \"std\": 1.1436336737775692,\n        \"min\": 3.3,\n        \"max\": 8.5,\n        \"num_unique_values\": 39,\n        \"samples\": [\n          6.3,\n          4.4,\n          5.8\n        ],\n        \"semantic_type\": \"\",\n        \"description\": \"\"\n      }\n    },\n    {\n      \"column\": \"iq\",\n      \"properties\": {\n        \"dtype\": \"number\",\n        \"std\": 39.944198451076595,\n        \"min\": 37.0,\n        \"max\": 233.0,\n        \"num_unique_values\": 71,\n        \"samples\": [\n          91.0,\n          123.0,\n          64.0\n        ],\n        \"semantic_type\": \"\",\n        \"description\": \"\"\n      }\n    },\n    {\n      \"column\": \"placement\",\n      \"properties\": {\n        \"dtype\": \"number\",\n        \"std\": 0,\n        \"min\": 0,\n        \"max\": 1,\n        \"num_unique_values\": 2,\n        \"samples\": [\n          0,\n          1\n        ],\n        \"semantic_type\": \"\",\n        \"description\": \"\"\n      }\n    }\n  ]\n}"
            }
          },
          "metadata": {},
          "execution_count": 37
        }
      ]
    },
    {
      "cell_type": "code",
      "source": [
        "dataset.describe()"
      ],
      "metadata": {
        "colab": {
          "base_uri": "https://localhost:8080/",
          "height": 300
        },
        "id": "hQtwD3QMB9mj",
        "outputId": "4034ac41-b723-41d4-9df1-2c2828fbc2e2"
      },
      "execution_count": null,
      "outputs": [
        {
          "output_type": "execute_result",
          "data": {
            "text/plain": [
              "       Unnamed: 0        cgpa          iq   placement\n",
              "count  100.000000  100.000000  100.000000  100.000000\n",
              "mean    49.500000    5.991000  123.580000    0.500000\n",
              "std     29.011492    1.143634   39.944198    0.502519\n",
              "min      0.000000    3.300000   37.000000    0.000000\n",
              "25%     24.750000    5.075000  101.500000    0.000000\n",
              "50%     49.500000    6.000000  127.500000    0.500000\n",
              "75%     74.250000    6.900000  149.000000    1.000000\n",
              "max     99.000000    8.500000  233.000000    1.000000"
            ],
            "text/html": [
              "\n",
              "  <div id=\"df-67584b9c-9dd8-45eb-9139-71bf349efe12\" class=\"colab-df-container\">\n",
              "    <div>\n",
              "<style scoped>\n",
              "    .dataframe tbody tr th:only-of-type {\n",
              "        vertical-align: middle;\n",
              "    }\n",
              "\n",
              "    .dataframe tbody tr th {\n",
              "        vertical-align: top;\n",
              "    }\n",
              "\n",
              "    .dataframe thead th {\n",
              "        text-align: right;\n",
              "    }\n",
              "</style>\n",
              "<table border=\"1\" class=\"dataframe\">\n",
              "  <thead>\n",
              "    <tr style=\"text-align: right;\">\n",
              "      <th></th>\n",
              "      <th>Unnamed: 0</th>\n",
              "      <th>cgpa</th>\n",
              "      <th>iq</th>\n",
              "      <th>placement</th>\n",
              "    </tr>\n",
              "  </thead>\n",
              "  <tbody>\n",
              "    <tr>\n",
              "      <th>count</th>\n",
              "      <td>100.000000</td>\n",
              "      <td>100.000000</td>\n",
              "      <td>100.000000</td>\n",
              "      <td>100.000000</td>\n",
              "    </tr>\n",
              "    <tr>\n",
              "      <th>mean</th>\n",
              "      <td>49.500000</td>\n",
              "      <td>5.991000</td>\n",
              "      <td>123.580000</td>\n",
              "      <td>0.500000</td>\n",
              "    </tr>\n",
              "    <tr>\n",
              "      <th>std</th>\n",
              "      <td>29.011492</td>\n",
              "      <td>1.143634</td>\n",
              "      <td>39.944198</td>\n",
              "      <td>0.502519</td>\n",
              "    </tr>\n",
              "    <tr>\n",
              "      <th>min</th>\n",
              "      <td>0.000000</td>\n",
              "      <td>3.300000</td>\n",
              "      <td>37.000000</td>\n",
              "      <td>0.000000</td>\n",
              "    </tr>\n",
              "    <tr>\n",
              "      <th>25%</th>\n",
              "      <td>24.750000</td>\n",
              "      <td>5.075000</td>\n",
              "      <td>101.500000</td>\n",
              "      <td>0.000000</td>\n",
              "    </tr>\n",
              "    <tr>\n",
              "      <th>50%</th>\n",
              "      <td>49.500000</td>\n",
              "      <td>6.000000</td>\n",
              "      <td>127.500000</td>\n",
              "      <td>0.500000</td>\n",
              "    </tr>\n",
              "    <tr>\n",
              "      <th>75%</th>\n",
              "      <td>74.250000</td>\n",
              "      <td>6.900000</td>\n",
              "      <td>149.000000</td>\n",
              "      <td>1.000000</td>\n",
              "    </tr>\n",
              "    <tr>\n",
              "      <th>max</th>\n",
              "      <td>99.000000</td>\n",
              "      <td>8.500000</td>\n",
              "      <td>233.000000</td>\n",
              "      <td>1.000000</td>\n",
              "    </tr>\n",
              "  </tbody>\n",
              "</table>\n",
              "</div>\n",
              "    <div class=\"colab-df-buttons\">\n",
              "\n",
              "  <div class=\"colab-df-container\">\n",
              "    <button class=\"colab-df-convert\" onclick=\"convertToInteractive('df-67584b9c-9dd8-45eb-9139-71bf349efe12')\"\n",
              "            title=\"Convert this dataframe to an interactive table.\"\n",
              "            style=\"display:none;\">\n",
              "\n",
              "  <svg xmlns=\"http://www.w3.org/2000/svg\" height=\"24px\" viewBox=\"0 -960 960 960\">\n",
              "    <path d=\"M120-120v-720h720v720H120Zm60-500h600v-160H180v160Zm220 220h160v-160H400v160Zm0 220h160v-160H400v160ZM180-400h160v-160H180v160Zm440 0h160v-160H620v160ZM180-180h160v-160H180v160Zm440 0h160v-160H620v160Z\"/>\n",
              "  </svg>\n",
              "    </button>\n",
              "\n",
              "  <style>\n",
              "    .colab-df-container {\n",
              "      display:flex;\n",
              "      gap: 12px;\n",
              "    }\n",
              "\n",
              "    .colab-df-convert {\n",
              "      background-color: #E8F0FE;\n",
              "      border: none;\n",
              "      border-radius: 50%;\n",
              "      cursor: pointer;\n",
              "      display: none;\n",
              "      fill: #1967D2;\n",
              "      height: 32px;\n",
              "      padding: 0 0 0 0;\n",
              "      width: 32px;\n",
              "    }\n",
              "\n",
              "    .colab-df-convert:hover {\n",
              "      background-color: #E2EBFA;\n",
              "      box-shadow: 0px 1px 2px rgba(60, 64, 67, 0.3), 0px 1px 3px 1px rgba(60, 64, 67, 0.15);\n",
              "      fill: #174EA6;\n",
              "    }\n",
              "\n",
              "    .colab-df-buttons div {\n",
              "      margin-bottom: 4px;\n",
              "    }\n",
              "\n",
              "    [theme=dark] .colab-df-convert {\n",
              "      background-color: #3B4455;\n",
              "      fill: #D2E3FC;\n",
              "    }\n",
              "\n",
              "    [theme=dark] .colab-df-convert:hover {\n",
              "      background-color: #434B5C;\n",
              "      box-shadow: 0px 1px 3px 1px rgba(0, 0, 0, 0.15);\n",
              "      filter: drop-shadow(0px 1px 2px rgba(0, 0, 0, 0.3));\n",
              "      fill: #FFFFFF;\n",
              "    }\n",
              "  </style>\n",
              "\n",
              "    <script>\n",
              "      const buttonEl =\n",
              "        document.querySelector('#df-67584b9c-9dd8-45eb-9139-71bf349efe12 button.colab-df-convert');\n",
              "      buttonEl.style.display =\n",
              "        google.colab.kernel.accessAllowed ? 'block' : 'none';\n",
              "\n",
              "      async function convertToInteractive(key) {\n",
              "        const element = document.querySelector('#df-67584b9c-9dd8-45eb-9139-71bf349efe12');\n",
              "        const dataTable =\n",
              "          await google.colab.kernel.invokeFunction('convertToInteractive',\n",
              "                                                    [key], {});\n",
              "        if (!dataTable) return;\n",
              "\n",
              "        const docLinkHtml = 'Like what you see? Visit the ' +\n",
              "          '<a target=\"_blank\" href=https://colab.research.google.com/notebooks/data_table.ipynb>data table notebook</a>'\n",
              "          + ' to learn more about interactive tables.';\n",
              "        element.innerHTML = '';\n",
              "        dataTable['output_type'] = 'display_data';\n",
              "        await google.colab.output.renderOutput(dataTable, element);\n",
              "        const docLink = document.createElement('div');\n",
              "        docLink.innerHTML = docLinkHtml;\n",
              "        element.appendChild(docLink);\n",
              "      }\n",
              "    </script>\n",
              "  </div>\n",
              "\n",
              "\n",
              "<div id=\"df-e4942b60-7178-48be-9353-9a73986cde70\">\n",
              "  <button class=\"colab-df-quickchart\" onclick=\"quickchart('df-e4942b60-7178-48be-9353-9a73986cde70')\"\n",
              "            title=\"Suggest charts\"\n",
              "            style=\"display:none;\">\n",
              "\n",
              "<svg xmlns=\"http://www.w3.org/2000/svg\" height=\"24px\"viewBox=\"0 0 24 24\"\n",
              "     width=\"24px\">\n",
              "    <g>\n",
              "        <path d=\"M19 3H5c-1.1 0-2 .9-2 2v14c0 1.1.9 2 2 2h14c1.1 0 2-.9 2-2V5c0-1.1-.9-2-2-2zM9 17H7v-7h2v7zm4 0h-2V7h2v10zm4 0h-2v-4h2v4z\"/>\n",
              "    </g>\n",
              "</svg>\n",
              "  </button>\n",
              "\n",
              "<style>\n",
              "  .colab-df-quickchart {\n",
              "      --bg-color: #E8F0FE;\n",
              "      --fill-color: #1967D2;\n",
              "      --hover-bg-color: #E2EBFA;\n",
              "      --hover-fill-color: #174EA6;\n",
              "      --disabled-fill-color: #AAA;\n",
              "      --disabled-bg-color: #DDD;\n",
              "  }\n",
              "\n",
              "  [theme=dark] .colab-df-quickchart {\n",
              "      --bg-color: #3B4455;\n",
              "      --fill-color: #D2E3FC;\n",
              "      --hover-bg-color: #434B5C;\n",
              "      --hover-fill-color: #FFFFFF;\n",
              "      --disabled-bg-color: #3B4455;\n",
              "      --disabled-fill-color: #666;\n",
              "  }\n",
              "\n",
              "  .colab-df-quickchart {\n",
              "    background-color: var(--bg-color);\n",
              "    border: none;\n",
              "    border-radius: 50%;\n",
              "    cursor: pointer;\n",
              "    display: none;\n",
              "    fill: var(--fill-color);\n",
              "    height: 32px;\n",
              "    padding: 0;\n",
              "    width: 32px;\n",
              "  }\n",
              "\n",
              "  .colab-df-quickchart:hover {\n",
              "    background-color: var(--hover-bg-color);\n",
              "    box-shadow: 0 1px 2px rgba(60, 64, 67, 0.3), 0 1px 3px 1px rgba(60, 64, 67, 0.15);\n",
              "    fill: var(--button-hover-fill-color);\n",
              "  }\n",
              "\n",
              "  .colab-df-quickchart-complete:disabled,\n",
              "  .colab-df-quickchart-complete:disabled:hover {\n",
              "    background-color: var(--disabled-bg-color);\n",
              "    fill: var(--disabled-fill-color);\n",
              "    box-shadow: none;\n",
              "  }\n",
              "\n",
              "  .colab-df-spinner {\n",
              "    border: 2px solid var(--fill-color);\n",
              "    border-color: transparent;\n",
              "    border-bottom-color: var(--fill-color);\n",
              "    animation:\n",
              "      spin 1s steps(1) infinite;\n",
              "  }\n",
              "\n",
              "  @keyframes spin {\n",
              "    0% {\n",
              "      border-color: transparent;\n",
              "      border-bottom-color: var(--fill-color);\n",
              "      border-left-color: var(--fill-color);\n",
              "    }\n",
              "    20% {\n",
              "      border-color: transparent;\n",
              "      border-left-color: var(--fill-color);\n",
              "      border-top-color: var(--fill-color);\n",
              "    }\n",
              "    30% {\n",
              "      border-color: transparent;\n",
              "      border-left-color: var(--fill-color);\n",
              "      border-top-color: var(--fill-color);\n",
              "      border-right-color: var(--fill-color);\n",
              "    }\n",
              "    40% {\n",
              "      border-color: transparent;\n",
              "      border-right-color: var(--fill-color);\n",
              "      border-top-color: var(--fill-color);\n",
              "    }\n",
              "    60% {\n",
              "      border-color: transparent;\n",
              "      border-right-color: var(--fill-color);\n",
              "    }\n",
              "    80% {\n",
              "      border-color: transparent;\n",
              "      border-right-color: var(--fill-color);\n",
              "      border-bottom-color: var(--fill-color);\n",
              "    }\n",
              "    90% {\n",
              "      border-color: transparent;\n",
              "      border-bottom-color: var(--fill-color);\n",
              "    }\n",
              "  }\n",
              "</style>\n",
              "\n",
              "  <script>\n",
              "    async function quickchart(key) {\n",
              "      const quickchartButtonEl =\n",
              "        document.querySelector('#' + key + ' button');\n",
              "      quickchartButtonEl.disabled = true;  // To prevent multiple clicks.\n",
              "      quickchartButtonEl.classList.add('colab-df-spinner');\n",
              "      try {\n",
              "        const charts = await google.colab.kernel.invokeFunction(\n",
              "            'suggestCharts', [key], {});\n",
              "      } catch (error) {\n",
              "        console.error('Error during call to suggestCharts:', error);\n",
              "      }\n",
              "      quickchartButtonEl.classList.remove('colab-df-spinner');\n",
              "      quickchartButtonEl.classList.add('colab-df-quickchart-complete');\n",
              "    }\n",
              "    (() => {\n",
              "      let quickchartButtonEl =\n",
              "        document.querySelector('#df-e4942b60-7178-48be-9353-9a73986cde70 button');\n",
              "      quickchartButtonEl.style.display =\n",
              "        google.colab.kernel.accessAllowed ? 'block' : 'none';\n",
              "    })();\n",
              "  </script>\n",
              "</div>\n",
              "\n",
              "    </div>\n",
              "  </div>\n"
            ],
            "application/vnd.google.colaboratory.intrinsic+json": {
              "type": "dataframe",
              "summary": "{\n  \"name\": \"dataset\",\n  \"rows\": 8,\n  \"fields\": [\n    {\n      \"column\": \"Unnamed: 0\",\n      \"properties\": {\n        \"dtype\": \"number\",\n        \"std\": 35.82311256064211,\n        \"min\": 0.0,\n        \"max\": 100.0,\n        \"num_unique_values\": 7,\n        \"samples\": [\n          100.0,\n          49.5,\n          74.25\n        ],\n        \"semantic_type\": \"\",\n        \"description\": \"\"\n      }\n    },\n    {\n      \"column\": \"cgpa\",\n      \"properties\": {\n        \"dtype\": \"number\",\n        \"std\": 33.565872612976165,\n        \"min\": 1.1436336737775692,\n        \"max\": 100.0,\n        \"num_unique_values\": 8,\n        \"samples\": [\n          5.9910000000000005,\n          6.0,\n          100.0\n        ],\n        \"semantic_type\": \"\",\n        \"description\": \"\"\n      }\n    },\n    {\n      \"column\": \"iq\",\n      \"properties\": {\n        \"dtype\": \"number\",\n        \"std\": 62.593370078700694,\n        \"min\": 37.0,\n        \"max\": 233.0,\n        \"num_unique_values\": 8,\n        \"samples\": [\n          123.58,\n          127.5,\n          100.0\n        ],\n        \"semantic_type\": \"\",\n        \"description\": \"\"\n      }\n    },\n    {\n      \"column\": \"placement\",\n      \"properties\": {\n        \"dtype\": \"number\",\n        \"std\": 35.180465557149546,\n        \"min\": 0.0,\n        \"max\": 100.0,\n        \"num_unique_values\": 5,\n        \"samples\": [\n          0.5,\n          1.0,\n          0.502518907629606\n        ],\n        \"semantic_type\": \"\",\n        \"description\": \"\"\n      }\n    }\n  ]\n}"
            }
          },
          "metadata": {},
          "execution_count": 38
        }
      ]
    },
    {
      "cell_type": "code",
      "source": [
        "dataset.dtypes"
      ],
      "metadata": {
        "colab": {
          "base_uri": "https://localhost:8080/"
        },
        "id": "v_cJpUJHCL9z",
        "outputId": "ff5889fc-dbbe-4384-b3c5-4a5968dc8c61"
      },
      "execution_count": null,
      "outputs": [
        {
          "output_type": "execute_result",
          "data": {
            "text/plain": [
              "Unnamed: 0      int64\n",
              "cgpa          float64\n",
              "iq            float64\n",
              "placement       int64\n",
              "dtype: object"
            ]
          },
          "metadata": {},
          "execution_count": 39
        }
      ]
    },
    {
      "cell_type": "code",
      "source": [
        "dataset.info()"
      ],
      "metadata": {
        "colab": {
          "base_uri": "https://localhost:8080/"
        },
        "id": "6xnHbnmPCN5u",
        "outputId": "761e5d8f-f40f-4e10-eaf0-840a35aa7e8c"
      },
      "execution_count": null,
      "outputs": [
        {
          "output_type": "stream",
          "name": "stdout",
          "text": [
            "<class 'pandas.core.frame.DataFrame'>\n",
            "RangeIndex: 100 entries, 0 to 99\n",
            "Data columns (total 4 columns):\n",
            " #   Column      Non-Null Count  Dtype  \n",
            "---  ------      --------------  -----  \n",
            " 0   Unnamed: 0  100 non-null    int64  \n",
            " 1   cgpa        100 non-null    float64\n",
            " 2   iq          100 non-null    float64\n",
            " 3   placement   100 non-null    int64  \n",
            "dtypes: float64(2), int64(2)\n",
            "memory usage: 3.2 KB\n"
          ]
        }
      ]
    },
    {
      "cell_type": "code",
      "source": [
        "dataset.duplicated().sum()"
      ],
      "metadata": {
        "colab": {
          "base_uri": "https://localhost:8080/"
        },
        "id": "C4HkXJ1PCRgQ",
        "outputId": "9551406e-077c-4de5-a61d-ff3939860747"
      },
      "execution_count": null,
      "outputs": [
        {
          "output_type": "execute_result",
          "data": {
            "text/plain": [
              "0"
            ]
          },
          "metadata": {},
          "execution_count": 41
        }
      ]
    },
    {
      "cell_type": "code",
      "source": [
        "dataset.drop_duplicates(inplace=True)"
      ],
      "metadata": {
        "id": "kscJxSblClqQ"
      },
      "execution_count": null,
      "outputs": []
    },
    {
      "cell_type": "code",
      "source": [
        "dataset.duplicated().sum()"
      ],
      "metadata": {
        "colab": {
          "base_uri": "https://localhost:8080/"
        },
        "id": "gcSqcFBHC0Sy",
        "outputId": "b6620cfc-996b-4ba0-9967-ceaa98633133"
      },
      "execution_count": null,
      "outputs": [
        {
          "output_type": "execute_result",
          "data": {
            "text/plain": [
              "0"
            ]
          },
          "metadata": {},
          "execution_count": 43
        }
      ]
    },
    {
      "cell_type": "code",
      "source": [
        "dataset.isnull().sum()"
      ],
      "metadata": {
        "colab": {
          "base_uri": "https://localhost:8080/"
        },
        "id": "utyNdcBWDM24",
        "outputId": "7b1c9ae7-8ef9-4b19-cd06-ad0e0088142c"
      },
      "execution_count": null,
      "outputs": [
        {
          "output_type": "execute_result",
          "data": {
            "text/plain": [
              "Unnamed: 0    0\n",
              "cgpa          0\n",
              "iq            0\n",
              "placement     0\n",
              "dtype: int64"
            ]
          },
          "metadata": {},
          "execution_count": 44
        }
      ]
    },
    {
      "cell_type": "code",
      "source": [
        "# Fill null values with mean\n",
        "dataset.fillna(dataset.mean(), inplace=True)\n",
        "\n",
        "# Display the merged DataFrame\n",
        "print(dataset)"
      ],
      "metadata": {
        "colab": {
          "base_uri": "https://localhost:8080/"
        },
        "id": "TC37mqBSDS4y",
        "outputId": "b06d6a13-4937-4ceb-f000-771ae6c01fe1"
      },
      "execution_count": null,
      "outputs": [
        {
          "output_type": "stream",
          "name": "stdout",
          "text": [
            "    Unnamed: 0  cgpa     iq  placement\n",
            "0            0   6.8  123.0          1\n",
            "1            1   5.9  106.0          0\n",
            "2            2   5.3  121.0          0\n",
            "3            3   7.4  132.0          1\n",
            "4            4   5.8  142.0          0\n",
            "..         ...   ...    ...        ...\n",
            "95          95   4.3  200.0          0\n",
            "96          96   4.4   42.0          0\n",
            "97          97   6.7  182.0          1\n",
            "98          98   6.3  103.0          1\n",
            "99          99   6.2  113.0          1\n",
            "\n",
            "[100 rows x 4 columns]\n"
          ]
        }
      ]
    },
    {
      "cell_type": "code",
      "source": [
        "# Visualize outliers with boxplot\n",
        "import seaborn as sns\n",
        "import matplotlib.pyplot as plt\n",
        "\n",
        "plt.figure(figsize=(10, 6))\n",
        "sns.boxplot(data=dataset.select_dtypes(include=['float64', 'int64']))\n",
        "plt.title('Boxplot of Numerical Features')\n",
        "plt.xticks(rotation=45)\n",
        "plt.show()"
      ],
      "metadata": {
        "colab": {
          "base_uri": "https://localhost:8080/",
          "height": 600
        },
        "id": "SyikuvryQBdT",
        "outputId": "d7a70f55-6070-48a1-9da0-23a48a5f73a6"
      },
      "execution_count": null,
      "outputs": [
        {
          "output_type": "display_data",
          "data": {
            "text/plain": [
              "<Figure size 1000x600 with 1 Axes>"
            ],
            "image/png": "[encoded data removed]"
          },
          "metadata": {}
        }
      ]
    },
    {
      "cell_type": "code",
      "source": [
        "# Handle outliers\n",
        "from scipy.stats import zscore\n",
        "\n",
        "z_scores = zscore(dataset.select_dtypes(include=['float64', 'int64']))\n",
        "abs_z_scores = abs(z_scores)\n",
        "threshold = 3\n",
        "outliers_mask = (abs_z_scores > threshold).any(axis=1)\n",
        "merged_df = dataset[~outliers_mask]"
      ],
      "metadata": {
        "id": "Zs_DOWP_QRvJ"
      },
      "execution_count": null,
      "outputs": []
    },
    {
      "cell_type": "code",
      "source": [
        "import seaborn as sns\n",
        "import matplotlib.pyplot as plt\n",
        "\n",
        "# Visualize outliers with boxplot after handling\n",
        "plt.figure(figsize=(10, 6))\n",
        "sns.boxplot(data=dataset.select_dtypes(include=['float64', 'int64']))\n",
        "plt.title('Boxplot of Numerical Features after Handling Outliers')\n",
        "plt.xticks(rotation=45)\n",
        "plt.show()\n"
      ],
      "metadata": {
        "colab": {
          "base_uri": "https://localhost:8080/",
          "height": 600
        },
        "id": "z2h7yDUgQePJ",
        "outputId": "535d2112-8d1f-42eb-a69c-2e86659dbb13"
      },
      "execution_count": null,
      "outputs": [
        {
          "output_type": "display_data",
          "data": {
            "text/plain": [
              "<Figure size 1000x600 with 1 Axes>"
            ],
            "image/png": "[encoded data removed]"
          },
          "metadata": {}
        }
      ]
    },
    {
      "cell_type": "code",
      "source": [
        "#feature and target variable\n",
        "X = dataset['cgpa'].values[:, np.newaxis]\n",
        "y = dataset['iq'].values"
      ],
      "metadata": {
        "id": "Ldu7H_XUD6qW"
      },
      "execution_count": null,
      "outputs": []
    },
    {
      "cell_type": "code",
      "source": [
        "# Data preprocessing\n",
        "from sklearn.preprocessing import StandardScaler\n",
        "scaler = StandardScaler()\n",
        "X_scaled = scaler.fit_transform(X)"
      ],
      "metadata": {
        "id": "JJRzi8kZHXBw"
      },
      "execution_count": null,
      "outputs": []
    },
    {
      "cell_type": "code",
      "source": [
        "from sklearn.linear_model import LinearRegression\n",
        "model = LinearRegression()\n",
        "model.fit(X_scaled, y)\n"
      ],
      "metadata": {
        "colab": {
          "base_uri": "https://localhost:8080/",
          "height": 74
        },
        "id": "bim91f_WOSaP",
        "outputId": "daca2795-d612-4b8c-95a3-073e681eb414"
      },
      "execution_count": null,
      "outputs": [
        {
          "output_type": "execute_result",
          "data": {
            "text/plain": [
              "LinearRegression()"
            ],
            "text/html": [
              "<style>#sk-container-id-2 {color: black;background-color: white;}#sk-container-id-2 pre{padding: 0;}#sk-container-id-2 div.sk-toggleable {background-color: white;}#sk-container-id-2 label.sk-toggleable__label {cursor: pointer;display: block;width: 100%;margin-bottom: 0;padding: 0.3em;box-sizing: border-box;text-align: center;}#sk-container-id-2 label.sk-toggleable__label-arrow:before {content: \"▸\";float: left;margin-right: 0.25em;color: #696969;}#sk-container-id-2 label.sk-toggleable__label-arrow:hover:before {color: black;}#sk-container-id-2 div.sk-estimator:hover label.sk-toggleable__label-arrow:before {color: black;}#sk-container-id-2 div.sk-toggleable__content {max-height: 0;max-width: 0;overflow: hidden;text-align: left;background-color: #f0f8ff;}#sk-container-id-2 div.sk-toggleable__content pre {margin: 0.2em;color: black;border-radius: 0.25em;background-color: #f0f8ff;}#sk-container-id-2 input.sk-toggleable__control:checked~div.sk-toggleable__content {max-height: 200px;max-width: 100%;overflow: auto;}#sk-container-id-2 input.sk-toggleable__control:checked~label.sk-toggleable__label-arrow:before {content: \"▾\";}#sk-container-id-2 div.sk-estimator input.sk-toggleable__control:checked~label.sk-toggleable__label {background-color: #d4ebff;}#sk-container-id-2 div.sk-label input.sk-toggleable__control:checked~label.sk-toggleable__label {background-color: #d4ebff;}#sk-container-id-2 input.sk-hidden--visually {border: 0;clip: rect(1px 1px 1px 1px);clip: rect(1px, 1px, 1px, 1px);height: 1px;margin: -1px;overflow: hidden;padding: 0;position: absolute;width: 1px;}#sk-container-id-2 div.sk-estimator {font-family: monospace;background-color: #f0f8ff;border: 1px dotted black;border-radius: 0.25em;box-sizing: border-box;margin-bottom: 0.5em;}#sk-container-id-2 div.sk-estimator:hover {background-color: #d4ebff;}#sk-container-id-2 div.sk-parallel-item::after {content: \"\";width: 100%;border-bottom: 1px solid gray;flex-grow: 1;}#sk-container-id-2 div.sk-label:hover label.sk-toggleable__label {background-color: #d4ebff;}#sk-container-id-2 div.sk-serial::before {content: \"\";position: absolute;border-left: 1px solid gray;box-sizing: border-box;top: 0;bottom: 0;left: 50%;z-index: 0;}#sk-container-id-2 div.sk-serial {display: flex;flex-direction: column;align-items: center;background-color: white;padding-right: 0.2em;padding-left: 0.2em;position: relative;}#sk-container-id-2 div.sk-item {position: relative;z-index: 1;}#sk-container-id-2 div.sk-parallel {display: flex;align-items: stretch;justify-content: center;background-color: white;position: relative;}#sk-container-id-2 div.sk-item::before, #sk-container-id-2 div.sk-parallel-item::before {content: \"\";position: absolute;border-left: 1px solid gray;box-sizing: border-box;top: 0;bottom: 0;left: 50%;z-index: -1;}#sk-container-id-2 div.sk-parallel-item {display: flex;flex-direction: column;z-index: 1;position: relative;background-color: white;}#sk-container-id-2 div.sk-parallel-item:first-child::after {align-self: flex-end;width: 50%;}#sk-container-id-2 div.sk-parallel-item:last-child::after {align-self: flex-start;width: 50%;}#sk-container-id-2 div.sk-parallel-item:only-child::after {width: 0;}#sk-container-id-2 div.sk-dashed-wrapped {border: 1px dashed gray;margin: 0 0.4em 0.5em 0.4em;box-sizing: border-box;padding-bottom: 0.4em;background-color: white;}#sk-container-id-2 div.sk-label label {font-family: monospace;font-weight: bold;display: inline-block;line-height: 1.2em;}#sk-container-id-2 div.sk-label-container {text-align: center;}#sk-container-id-2 div.sk-container {/* jupyter's `normalize.less` sets `[hidden] { display: none; }` but bootstrap.min.css set `[hidden] { display: none !important; }` so we also need the `!important` here to be able to override the default hidden behavior on the sphinx rendered scikit-learn.org. See: https://github.com/scikit-learn/scikit-learn/issues/21755 */display: inline-block !important;position: relative;}#sk-container-id-2 div.sk-text-repr-fallback {display: none;}</style><div id=\"sk-container-id-2\" class=\"sk-top-container\"><div class=\"sk-text-repr-fallback\"><pre>LinearRegression()</pre><b>In a Jupyter environment, please rerun this cell to show the HTML representation or trust the notebook. <br />On GitHub, the HTML representation is unable to render, please try loading this page with nbviewer.org.</b></div><div class=\"sk-container\" hidden><div class=\"sk-item\"><div class=\"sk-estimator sk-toggleable\"><input class=\"sk-toggleable__control sk-hidden--visually\" id=\"sk-estimator-id-2\" type=\"checkbox\" checked><label for=\"sk-estimator-id-2\" class=\"sk-toggleable__label sk-toggleable__label-arrow\">LinearRegression</label><div class=\"sk-toggleable__content\"><pre>LinearRegression()</pre></div></div></div></div></div>"
            ]
          },
          "metadata": {},
          "execution_count": 51
        }
      ]
    },
    {
      "cell_type": "code",
      "source": [
        "corr=dataset.corr()\n",
        "print(corr)"
      ],
      "metadata": {
        "colab": {
          "base_uri": "https://localhost:8080/"
        },
        "id": "BsFk-3Gbtk77",
        "outputId": "a75302bf-8288-4ef8-8fc6-c4bd68cd352b"
      },
      "execution_count": null,
      "outputs": [
        {
          "output_type": "stream",
          "name": "stdout",
          "text": [
            "            Unnamed: 0      cgpa        iq  placement\n",
            "Unnamed: 0    1.000000  0.047478 -0.019080   0.144807\n",
            "cgpa          0.047478  1.000000 -0.098791   0.821688\n",
            "iq           -0.019080 -0.098791  1.000000  -0.083031\n",
            "placement     0.144807  0.821688 -0.083031   1.000000\n"
          ]
        }
      ]
    },
    {
      "cell_type": "code",
      "source": [
        "sns.heatmap(corr,annot=True)"
      ],
      "metadata": {
        "colab": {
          "base_uri": "https://localhost:8080/",
          "height": 452
        },
        "id": "0zPG_jbzutI7",
        "outputId": "32ca37ca-bc33-4ab9-fc91-77ed3875104a"
      },
      "execution_count": null,
      "outputs": [
        {
          "output_type": "execute_result",
          "data": {
            "text/plain": [
              "<Axes: >"
            ]
          },
          "metadata": {},
          "execution_count": 53
        },
        {
          "output_type": "display_data",
          "data": {
            "text/plain": [
              "<Figure size 640x480 with 2 Axes>"
            ],
            "image/png": "[encoded data removed]"
          },
          "metadata": {}
        }
      ]
    },
    {
      "cell_type": "code",
      "source": [
        "# Define a simple cost function with Lasso regularization (mean squared error + L1 penalty)\n",
        "def cost_function_with_lasso(y_pred, y_true, a0, a1, l1_penalty):\n",
        "    mse = np.mean((y_pred - y_true) ** 2)\n",
        "    lasso_penalty = l1_penalty * (np.abs(a0) + np.abs(a1))\n",
        "    return mse + lasso_penalty"
      ],
      "metadata": {
        "id": "-_8U9GxpR8WV"
      },
      "execution_count": null,
      "outputs": []
    },
    {
      "cell_type": "code",
      "source": [
        "# Define a function to compute gradients with Lasso regularization\n",
        "def compute_gradients_with_lasso(X, y_pred, y_true, a0, a1, l1_penalty):\n",
        "    m = len(y_true)\n",
        "    error = y_pred - y_true\n",
        "    grad_a0 = np.mean(error) + l1_penalty * np.sign(a0)\n",
        "    grad_a1 = (np.mean(error * X) + l1_penalty * np.sign(a1))\n",
        "    return grad_a0, grad_a1\n"
      ],
      "metadata": {
        "id": "Ge9YWnGQSDGH"
      },
      "execution_count": null,
      "outputs": []
    },
    {
      "cell_type": "code",
      "source": [
        "# Initialize parameters\n",
        "a0 = 0.0\n",
        "a1 = 1.0\n",
        "learning_rate = 0.01\n",
        "epochs = 1000\n",
        "l1_penalty = 0.1  # Strength of Lasso regularization"
      ],
      "metadata": {
        "id": "7DYKYAmISJt0"
      },
      "execution_count": null,
      "outputs": []
    },
    {
      "cell_type": "code",
      "source": [
        "# Gradient Descent with Lasso regularization\n",
        "for epoch in range(epochs):\n",
        "    y_pred = a0 + a1 * X_scaled\n",
        "\n",
        "    # Compute the cost with Lasso regularization\n",
        "    cost = cost_function_with_lasso(y_pred, y, a0, a1, l1_penalty)\n",
        "\n",
        "    # Compute gradients with Lasso regularization\n",
        "    grad_a0, grad_a1 = compute_gradients_with_lasso(X_scaled, y_pred, y, a0, a1, l1_penalty)\n",
        "\n",
        "    # Update parameters\n",
        "    a0 -= learning_rate * grad_a0\n",
        "    a1 -= learning_rate * grad_a1\n",
        "\n",
        "    # Print progress\n",
        "    if epoch % 100 == 0:\n",
        "        print(f\"Epoch {epoch}: Cost = {cost}\")\n",
        "\n",
        "print(\"Final Parameters with Lasso Regularization:\")\n",
        "print(\"Intercept (a0):\", a0)\n",
        "print(\"Slope (a1):\", a1)\n"
      ],
      "metadata": {
        "colab": {
          "base_uri": "https://localhost:8080/"
        },
        "id": "fQYr6Q71Sd0Q",
        "outputId": "1614baf0-2f6f-4c3b-edfc-2ff70d9725f1"
      },
      "execution_count": null,
      "outputs": [
        {
          "output_type": "stream",
          "name": "stdout",
          "text": [
            "Epoch 0: Cost = 16852.699999999997\n",
            "Epoch 100: Cost = 3639.3794503743466\n",
            "Epoch 200: Cost = 1867.296129704631\n",
            "Epoch 300: Cost = 1629.216530670837\n",
            "Epoch 400: Cost = 1597.0762479276304\n",
            "Epoch 500: Cost = 1592.6810174639063\n",
            "Epoch 600: Cost = 1592.0595376198091\n",
            "Epoch 700: Cost = 1591.9643362615677\n",
            "Epoch 800: Cost = 1591.9472123656967\n",
            "Epoch 900: Cost = 1591.943318971723\n",
            "Final Parameters with Lasso Regularization:\n",
            "Intercept (a0): 123.47466925797708\n",
            "Slope (a1): 0.0005025554158670862\n"
          ]
        }
      ]
    },
    {
      "cell_type": "code",
      "source": [
        "# Plot the original data points\n",
        "plt.scatter(X, y, color='blue', label='Original Data')\n",
        "\n",
        "# Plot the regression line\n",
        "plt.plot(X, a0 + a1 * X_scaled, color='red', label='Regression Fit')\n",
        "\n",
        "# Add labels and title\n",
        "plt.xlabel('cgpa')\n",
        "plt.ylabel('iq')\n",
        "plt.title('Linear Regression Fit with Lasso Regularization')\n",
        "plt.legend()\n",
        "\n",
        "# Show plot\n",
        "plt.show()"
      ],
      "metadata": {
        "colab": {
          "base_uri": "https://localhost:8080/",
          "height": 472
        },
        "id": "_Xv5w_TmTF3w",
        "outputId": "c48c5df3-96ee-4bda-ff40-14c581fed17c"
      },
      "execution_count": null,
      "outputs": [
        {
          "output_type": "display_data",
          "data": {
            "text/plain": [
              "<Figure size 640x480 with 1 Axes>"
            ],
            "image/png": "[encoded data removed]"
          },
          "metadata": {}
        }
      ]
    },
    {
      "cell_type": "code",
      "source": [
        "def cost_function_with_ridge(y_pred, y_true, a0, a1, l2_penalty):\n",
        "    mse = np.mean((y_pred - y_true) ** 2)\n",
        "    ridge_penalty = l2_penalty * (a0**2 + a1**2)\n",
        "    return mse + ridge_penalty\n",
        "\n",
        "def compute_gradients_with_ridge(X, y_pred, y_true, a0, a1, l2_penalty):\n",
        "    m = len(y_true)\n",
        "    error = y_pred - y_true\n",
        "    grad_a0 = np.mean(error) + 2 * l2_penalty * a0\n",
        "    grad_a1 = np.mean(error * X) + 2 * l2_penalty * a1\n",
        "    return grad_a0, grad_a1\n",
        "\n",
        "# Initialize parameters\n",
        "a0 = 0.0\n",
        "a1 = 1.0\n",
        "learning_rate = 0.01\n",
        "epochs = 1000\n",
        "l2_penalty = 0.1  # Strength of Ridge regularization\n",
        "\n",
        "# Gradient Descent with Ridge regularization\n",
        "for epoch in range(epochs):\n",
        "    y_pred = a0 + a1 * X_scaled\n",
        "\n",
        "    # Compute the cost with Ridge regularization\n",
        "    cost = cost_function_with_ridge(y_pred, y, a0, a1, l2_penalty)\n",
        "\n",
        "    # Compute gradients with Ridge regularization\n",
        "    grad_a0, grad_a1 = compute_gradients_with_ridge(X_scaled, y_pred, y, a0, a1, l2_penalty)\n",
        "\n",
        "    # Update parameters\n",
        "    a0 -= learning_rate * grad_a0\n",
        "    a1 -= learning_rate * grad_a1\n",
        "\n",
        "    # Print progress\n",
        "    if epoch % 100 == 0:\n",
        "        print(f\"Epoch {epoch}: Cost = {cost}\")\n",
        "\n",
        "print(\"Final Parameters with Ridge Regularization:\")\n",
        "print(\"Intercept (a0):\", a0)\n",
        "print(\"Slope (a1):\", a1)\n",
        "\n",
        "# Plot the original data points\n",
        "plt.scatter(X, y, color='blue', label='Original Data')\n",
        "\n",
        "# Plot the regression line\n",
        "plt.plot(X, a0 + a1 * X_scaled, color='red', label='Regression Fit')\n",
        "\n",
        "# Add labels and title\n",
        "plt.xlabel('cgpa')\n",
        "plt.ylabel('iq')\n",
        "plt.title('Linear Regression Fit with Ridge Regularization')\n",
        "plt.legend()\n",
        "\n",
        "# Show plot\n",
        "plt.show()\n"
      ],
      "metadata": {
        "colab": {
          "base_uri": "https://localhost:8080/",
          "height": 698
        },
        "id": "b_ATRvBBEGXp",
        "outputId": "3d5dedd3-fdd7-48fe-a409-952545a8372f"
      },
      "execution_count": null,
      "outputs": [
        {
          "output_type": "stream",
          "name": "stdout",
          "text": [
            "Epoch 0: Cost = 16852.699999999997\n",
            "Epoch 100: Cost = 4741.783104422032\n",
            "Epoch 200: Cost = 3347.2836790074653\n",
            "Epoch 300: Cost = 3129.410744748834\n",
            "Epoch 400: Cost = 3082.0653168946515\n",
            "Epoch 500: Cost = 3069.499968857818\n",
            "Epoch 600: Cost = 3065.885042714206\n",
            "Epoch 700: Cost = 3064.8168462791978\n",
            "Epoch 800: Cost = 3064.498576126886\n",
            "Epoch 900: Cost = 3064.4035099742277\n",
            "Final Parameters with Ridge Regularization:\n",
            "Intercept (a0): 102.98274488067045\n",
            "Slope (a1): 5.714057245603232e-06\n"
          ]
        },
        {
          "output_type": "display_data",
          "data": {
            "text/plain": [
              "<Figure size 640x480 with 1 Axes>"
            ],
            "image/png": "[encoded data removed]"
          },
          "metadata": {}
        }
      ]
    },
    {
      "cell_type": "code",
      "source": [
        "import numpy as np\n",
        "import matplotlib.pyplot as plt\n",
        "import pandas as pd\n",
        "from sklearn.preprocessing import StandardScaler\n",
        "\n",
        "# Importing the dataset\n",
        "dataset = pd.read_csv('/content/placement.csv')\n",
        "print(dataset)\n",
        "\n",
        "# Feature and target variable\n",
        "X = dataset['cgpa'].values[:, np.newaxis]\n",
        "y = dataset['iq'].values\n",
        "\n",
        "# Data preprocessing\n",
        "scaler = StandardScaler()\n",
        "X_scaled = scaler.fit_transform(X)\n",
        "\n",
        "# Define cost functions with Ridge and Lasso regularization\n",
        "def cost_function_with_ridge(y_pred, y_true, a0, a1, l2_penalty):\n",
        "    mse = np.mean((y_pred - y_true) ** 2)\n",
        "    ridge_penalty = l2_penalty * (a0**2 + a1**2)\n",
        "    return mse + ridge_penalty\n",
        "\n",
        "def cost_function_with_lasso(y_pred, y_true, a0, a1, l1_penalty):\n",
        "    mse = np.mean((y_pred - y_true) ** 2)\n",
        "    lasso_penalty = l1_penalty * (np.abs(a0) + np.abs(a1))\n",
        "    return mse + lasso_penalty\n",
        "\n",
        "# Define functions to compute gradients with Ridge and Lasso regularization\n",
        "def compute_gradients_with_ridge(X, y_pred, y_true, a0, a1, l2_penalty):\n",
        "    m = len(y_true)\n",
        "    error = y_pred - y_true\n",
        "    grad_a0 = np.mean(error) + 2 * l2_penalty * a0\n",
        "    grad_a1 = np.mean(error * X) + 2 * l2_penalty * a1\n",
        "    return grad_a0, grad_a1\n",
        "\n",
        "def compute_gradients_with_lasso(X, y_pred, y_true, a0, a1, l1_penalty):\n",
        "    m = len(y_true)\n",
        "    error = y_pred - y_true\n",
        "    grad_a0 = np.mean(error) + l1_penalty * np.sign(a0)\n",
        "    grad_a1 = np.mean(error * X) + l1_penalty * np.sign(a1)\n",
        "    return grad_a0, grad_a1\n",
        "\n",
        "# Initialize parameters\n",
        "a0_ridge = 0.0\n",
        "a1_ridge = 1.0\n",
        "a0_lasso = 0.0\n",
        "a1_lasso = 1.0\n",
        "learning_rate = 0.01\n",
        "epochs = 1000\n",
        "l2_penalty = 0.1  # Strength of Ridge regularization\n",
        "l1_penalty = 0.1  # Strength of Lasso regularization\n",
        "\n",
        "# Gradient Descent with Ridge and Lasso regularization\n",
        "for epoch in range(epochs):\n",
        "    # Predictions\n",
        "    y_pred_ridge = a0_ridge + a1_ridge * X_scaled\n",
        "    y_pred_lasso = a0_lasso + a1_lasso * X_scaled\n",
        "\n",
        "    # Compute the cost with Ridge regularization\n",
        "    cost_ridge = cost_function_with_ridge(y_pred_ridge, y, a0_ridge, a1_ridge, l2_penalty)\n",
        "\n",
        "    # Compute gradients with Ridge regularization\n",
        "    grad_a0_ridge, grad_a1_ridge = compute_gradients_with_ridge(X_scaled, y_pred_ridge, y, a0_ridge, a1_ridge, l2_penalty)\n",
        "\n",
        "    # Update parameters for Ridge\n",
        "    a0_ridge -= learning_rate * grad_a0_ridge\n",
        "    a1_ridge -= learning_rate * grad_a1_ridge\n",
        "\n",
        "    # Compute the cost with Lasso regularization\n",
        "    cost_lasso = cost_function_with_lasso(y_pred_lasso, y, a0_lasso, a1_lasso, l1_penalty)\n",
        "\n",
        "    # Compute gradients with Lasso regularization\n",
        "    grad_a0_lasso, grad_a1_lasso = compute_gradients_with_lasso(X_scaled, y_pred_lasso, y, a0_lasso, a1_lasso, l1_penalty)\n",
        "\n",
        "    # Update parameters for Lasso\n",
        "    a0_lasso -= learning_rate * grad_a0_lasso\n",
        "    a1_lasso -= learning_rate * grad_a1_lasso\n",
        "\n",
        "    # Print progress\n",
        "    if epoch % 100 == 0:\n",
        "        print(f\"Epoch {epoch}: Ridge Cost = {cost_ridge}, Lasso Cost = {cost_lasso}\")\n",
        "\n",
        "print(\"Final Parameters with Ridge Regularization:\")\n",
        "print(\"Intercept (a0):\", a0_ridge)\n",
        "print(\"Slope (a1):\", a1_ridge)\n",
        "\n",
        "print(\"Final Parameters with Lasso Regularization:\")\n",
        "print(\"Intercept (a0):\", a0_lasso)\n",
        "print(\"Slope (a1):\", a1_lasso)\n",
        "\n",
        "# Plot the original data points\n",
        "plt.scatter(X, y, color='blue', label='Original Data')\n",
        "\n",
        "# Plot the regression lines\n",
        "plt.plot(X, a0_ridge + a1_ridge * X_scaled, color='red', label='Ridge Regression Fit')\n",
        "plt.plot(X, a0_lasso + a1_lasso * X_scaled, color='green', label='Lasso Regression Fit')\n",
        "\n",
        "# Add labels and title\n",
        "plt.xlabel('cgpa')\n",
        "plt.ylabel('iq')\n",
        "plt.title('Linear Regression Fit with Ridge and Lasso Regularization')\n",
        "plt.legend()\n",
        "\n",
        "# Show plot\n",
        "plt.show()\n"
      ],
      "metadata": {
        "id": "nLuTsUqmFfyK",
        "outputId": "f10bd512-de43-492a-d163-07096f209476",
        "colab": {
          "base_uri": "https://localhost:8080/",
          "height": 993
        }
      },
      "execution_count": null,
      "outputs": [
        {
          "output_type": "stream",
          "name": "stdout",
          "text": [
            "    Unnamed: 0  cgpa     iq  placement\n",
            "0            0   6.8  123.0          1\n",
            "1            1   5.9  106.0          0\n",
            "2            2   5.3  121.0          0\n",
            "3            3   7.4  132.0          1\n",
            "4            4   5.8  142.0          0\n",
            "..         ...   ...    ...        ...\n",
            "95          95   4.3  200.0          0\n",
            "96          96   4.4   42.0          0\n",
            "97          97   6.7  182.0          1\n",
            "98          98   6.3  103.0          1\n",
            "99          99   6.2  113.0          1\n",
            "\n",
            "[100 rows x 4 columns]\n",
            "Epoch 0: Ridge Cost = 16852.699999999997, Lasso Cost = 16852.699999999997\n",
            "Epoch 100: Ridge Cost = 4741.783104422032, Lasso Cost = 3639.3794503743466\n",
            "Epoch 200: Ridge Cost = 3347.2836790074653, Lasso Cost = 1867.296129704631\n",
            "Epoch 300: Ridge Cost = 3129.410744748834, Lasso Cost = 1629.216530670837\n",
            "Epoch 400: Ridge Cost = 3082.0653168946515, Lasso Cost = 1597.0762479276304\n",
            "Epoch 500: Ridge Cost = 3069.499968857818, Lasso Cost = 1592.6810174639063\n",
            "Epoch 600: Ridge Cost = 3065.885042714206, Lasso Cost = 1592.0595376198091\n",
            "Epoch 700: Ridge Cost = 3064.8168462791978, Lasso Cost = 1591.9643362615677\n",
            "Epoch 800: Ridge Cost = 3064.498576126886, Lasso Cost = 1591.9472123656967\n",
            "Epoch 900: Ridge Cost = 3064.4035099742277, Lasso Cost = 1591.943318971723\n",
            "Final Parameters with Ridge Regularization:\n",
            "Intercept (a0): 102.98274488067045\n",
            "Slope (a1): 5.714057245603232e-06\n",
            "Final Parameters with Lasso Regularization:\n",
            "Intercept (a0): 123.47466925797708\n",
            "Slope (a1): 0.0005025554158670862\n"
          ]
        },
        {
          "output_type": "display_data",
          "data": {
            "text/plain": [
              "<Figure size 640x480 with 1 Axes>"
            ],
            "image/png": "[encoded data removed]"
          },
          "metadata": {}
        }
      ]
    }
  ]
}